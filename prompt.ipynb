{
 "cells": [
  {
   "cell_type": "markdown",
   "metadata": {},
   "source": [
    "### Will a Customer Accept the Coupon?\n",
    "\n",
    "**Context**\n",
    "\n",
    "Imagine driving through town and a coupon is delivered to your cell phone for a restaraunt near where you are driving. Would you accept that coupon and take a short detour to the restaraunt? Would you accept the coupon but use it on a sunbsequent trip? Would you ignore the coupon entirely? What if the coupon was for a bar instead of a restaraunt? What about a coffee house? Would you accept a bar coupon with a minor passenger in the car? What about if it was just you and your partner in the car? Would weather impact the rate of acceptance? What about the time of day?\n",
    "\n",
    "Obviously, proximity to the business is a factor on whether the coupon is delivered to the driver or not, but what are the factors that determine whether a driver accepts the coupon once it is delivered to them? How would you determine whether a driver is likely to accept a coupon?\n",
    "\n",
    "**Overview**\n",
    "\n",
    "The goal of this project is to use what you know about visualizations and probability distributions to distinguish between customers who accepted a driving coupon versus those that did not.\n",
    "\n",
    "**Data**\n",
    "\n",
    "This data comes to us from the UCI Machine Learning repository and was collected via a survey on Amazon Mechanical Turk. The survey describes different driving scenarios including the destination, current time, weather, passenger, etc., and then ask the person whether he will accept the coupon if he is the driver. Answers that the user will drive there ‘right away’ or ‘later before the coupon expires’ are labeled as ‘Y = 1’ and answers ‘no, I do not want the coupon’ are labeled as ‘Y = 0’.  There are five different types of coupons -- less expensive restaurants (under \\\\$20), coffee houses, carry out & take away, bar, and more expensive restaurants (\\\\$20 - \\\\$50). "
   ]
  },
  {
   "cell_type": "markdown",
   "metadata": {},
   "source": [
    "**Deliverables**\n",
    "\n",
    "Your final product should be a brief report that highlights the differences between customers who did and did not accept the coupons.  To explore the data you will utilize your knowledge of plotting, statistical summaries, and visualization using Python. You will publish your findings in a public facing github repository as your first portfolio piece. \n",
    "\n",
    "\n",
    "\n"
   ]
  },
  {
   "cell_type": "markdown",
   "metadata": {},
   "source": [
    "### Data Description\n",
    "Keep in mind that these values mentioned below are average values.\n",
    "\n",
    "The attributes of this data set include:\n",
    "1. User attributes\n",
    "    -  Gender: male, female\n",
    "    -  Age: below 21, 21 to 25, 26 to 30, etc.\n",
    "    -  Marital Status: single, married partner, unmarried partner, or widowed\n",
    "    -  Number of children: 0, 1, or more than 1\n",
    "    -  Education: high school, bachelors degree, associates degree, or graduate degree\n",
    "    -  Occupation: architecture & engineering, business & financial, etc.\n",
    "    -  Annual income: less than \\\\$12500, \\\\$12500 - \\\\$24999, \\\\$25000 - \\\\$37499, etc.\n",
    "    -  Number of times that he/she goes to a bar: 0, less than 1, 1 to 3, 4 to 8 or greater than 8\n",
    "    -  Number of times that he/she buys takeaway food: 0, less than 1, 1 to 3, 4 to 8 or greater\n",
    "    than 8\n",
    "    -  Number of times that he/she goes to a coffee house: 0, less than 1, 1 to 3, 4 to 8 or\n",
    "    greater than 8\n",
    "    -  Number of times that he/she eats at a restaurant with average expense less than \\\\$20 per\n",
    "    person: 0, less than 1, 1 to 3, 4 to 8 or greater than 8\n",
    "    -  Number of times that he/she goes to a bar: 0, less than 1, 1 to 3, 4 to 8 or greater than 8\n",
    "    \n",
    "\n",
    "2. Contextual attributes\n",
    "    - Driving destination: home, work, or no urgent destination\n",
    "    - Location of user, coupon and destination: we provide a map to show the geographical\n",
    "    location of the user, destination, and the venue, and we mark the distance between each\n",
    "    two places with time of driving. The user can see whether the venue is in the same\n",
    "    direction as the destination.\n",
    "    - Weather: sunny, rainy, or snowy\n",
    "    - Temperature: 30F, 55F, or 80F\n",
    "    - Time: 10AM, 2PM, or 6PM\n",
    "    - Passenger: alone, partner, kid(s), or friend(s)\n",
    "\n",
    "\n",
    "3. Coupon attributes\n",
    "    - time before it expires: 2 hours or one day"
   ]
  },
  {
   "cell_type": "code",
   "execution_count": 84,
   "metadata": {},
   "outputs": [],
   "source": [
    "# Importing Libraries\n",
    "import matplotlib.pyplot as plt\n",
    "import seaborn as sns\n",
    "import pandas as pd\n",
    "import numpy as np\n",
    "import plotly.express as px"
   ]
  },
  {
   "cell_type": "markdown",
   "metadata": {},
   "source": [
    "### Problems\n",
    "\n",
    "Use the prompts below to get started with your data analysis.  \n",
    "\n",
    "1. Read in the `coupons.csv` file.\n",
    "\n",
    "\n"
   ]
  },
  {
   "cell_type": "code",
   "execution_count": 85,
   "metadata": {},
   "outputs": [],
   "source": [
    "# Creating a dataframe using pandas\n",
    "data = pd.read_csv('data/coupons.csv')"
   ]
  },
  {
   "cell_type": "code",
   "execution_count": 86,
   "metadata": {},
   "outputs": [
    {
     "name": "stdout",
     "output_type": "stream",
     "text": [
      "<class 'pandas.core.frame.DataFrame'>\n",
      "RangeIndex: 12684 entries, 0 to 12683\n",
      "Data columns (total 26 columns):\n",
      " #   Column                Non-Null Count  Dtype \n",
      "---  ------                --------------  ----- \n",
      " 0   destination           12684 non-null  object\n",
      " 1   passanger             12684 non-null  object\n",
      " 2   weather               12684 non-null  object\n",
      " 3   temperature           12684 non-null  int64 \n",
      " 4   time                  12684 non-null  object\n",
      " 5   coupon                12684 non-null  object\n",
      " 6   expiration            12684 non-null  object\n",
      " 7   gender                12684 non-null  object\n",
      " 8   age                   12684 non-null  object\n",
      " 9   maritalStatus         12684 non-null  object\n",
      " 10  has_children          12684 non-null  int64 \n",
      " 11  education             12684 non-null  object\n",
      " 12  occupation            12684 non-null  object\n",
      " 13  income                12684 non-null  object\n",
      " 14  car                   108 non-null    object\n",
      " 15  Bar                   12577 non-null  object\n",
      " 16  CoffeeHouse           12467 non-null  object\n",
      " 17  CarryAway             12533 non-null  object\n",
      " 18  RestaurantLessThan20  12554 non-null  object\n",
      " 19  Restaurant20To50      12495 non-null  object\n",
      " 20  toCoupon_GEQ5min      12684 non-null  int64 \n",
      " 21  toCoupon_GEQ15min     12684 non-null  int64 \n",
      " 22  toCoupon_GEQ25min     12684 non-null  int64 \n",
      " 23  direction_same        12684 non-null  int64 \n",
      " 24  direction_opp         12684 non-null  int64 \n",
      " 25  Y                     12684 non-null  int64 \n",
      "dtypes: int64(8), object(18)\n",
      "memory usage: 2.5+ MB\n"
     ]
    }
   ],
   "source": [
    "# Analyzing the dataframe\n",
    "data.info()"
   ]
  },
  {
   "cell_type": "code",
   "execution_count": 87,
   "metadata": {},
   "outputs": [
    {
     "data": {
      "text/html": [
       "<div>\n",
       "<style scoped>\n",
       "    .dataframe tbody tr th:only-of-type {\n",
       "        vertical-align: middle;\n",
       "    }\n",
       "\n",
       "    .dataframe tbody tr th {\n",
       "        vertical-align: top;\n",
       "    }\n",
       "\n",
       "    .dataframe thead th {\n",
       "        text-align: right;\n",
       "    }\n",
       "</style>\n",
       "<table border=\"1\" class=\"dataframe\">\n",
       "  <thead>\n",
       "    <tr style=\"text-align: right;\">\n",
       "      <th></th>\n",
       "      <th>destination</th>\n",
       "      <th>passanger</th>\n",
       "      <th>weather</th>\n",
       "      <th>temperature</th>\n",
       "      <th>time</th>\n",
       "      <th>coupon</th>\n",
       "      <th>expiration</th>\n",
       "      <th>gender</th>\n",
       "      <th>age</th>\n",
       "      <th>maritalStatus</th>\n",
       "      <th>...</th>\n",
       "      <th>CoffeeHouse</th>\n",
       "      <th>CarryAway</th>\n",
       "      <th>RestaurantLessThan20</th>\n",
       "      <th>Restaurant20To50</th>\n",
       "      <th>toCoupon_GEQ5min</th>\n",
       "      <th>toCoupon_GEQ15min</th>\n",
       "      <th>toCoupon_GEQ25min</th>\n",
       "      <th>direction_same</th>\n",
       "      <th>direction_opp</th>\n",
       "      <th>Y</th>\n",
       "    </tr>\n",
       "  </thead>\n",
       "  <tbody>\n",
       "    <tr>\n",
       "      <th>0</th>\n",
       "      <td>No Urgent Place</td>\n",
       "      <td>Alone</td>\n",
       "      <td>Sunny</td>\n",
       "      <td>55</td>\n",
       "      <td>2PM</td>\n",
       "      <td>Restaurant(&lt;20)</td>\n",
       "      <td>1d</td>\n",
       "      <td>Female</td>\n",
       "      <td>21</td>\n",
       "      <td>Unmarried partner</td>\n",
       "      <td>...</td>\n",
       "      <td>never</td>\n",
       "      <td>NaN</td>\n",
       "      <td>4~8</td>\n",
       "      <td>1~3</td>\n",
       "      <td>1</td>\n",
       "      <td>0</td>\n",
       "      <td>0</td>\n",
       "      <td>0</td>\n",
       "      <td>1</td>\n",
       "      <td>1</td>\n",
       "    </tr>\n",
       "    <tr>\n",
       "      <th>1</th>\n",
       "      <td>No Urgent Place</td>\n",
       "      <td>Friend(s)</td>\n",
       "      <td>Sunny</td>\n",
       "      <td>80</td>\n",
       "      <td>10AM</td>\n",
       "      <td>Coffee House</td>\n",
       "      <td>2h</td>\n",
       "      <td>Female</td>\n",
       "      <td>21</td>\n",
       "      <td>Unmarried partner</td>\n",
       "      <td>...</td>\n",
       "      <td>never</td>\n",
       "      <td>NaN</td>\n",
       "      <td>4~8</td>\n",
       "      <td>1~3</td>\n",
       "      <td>1</td>\n",
       "      <td>0</td>\n",
       "      <td>0</td>\n",
       "      <td>0</td>\n",
       "      <td>1</td>\n",
       "      <td>0</td>\n",
       "    </tr>\n",
       "    <tr>\n",
       "      <th>2</th>\n",
       "      <td>No Urgent Place</td>\n",
       "      <td>Friend(s)</td>\n",
       "      <td>Sunny</td>\n",
       "      <td>80</td>\n",
       "      <td>10AM</td>\n",
       "      <td>Carry out &amp; Take away</td>\n",
       "      <td>2h</td>\n",
       "      <td>Female</td>\n",
       "      <td>21</td>\n",
       "      <td>Unmarried partner</td>\n",
       "      <td>...</td>\n",
       "      <td>never</td>\n",
       "      <td>NaN</td>\n",
       "      <td>4~8</td>\n",
       "      <td>1~3</td>\n",
       "      <td>1</td>\n",
       "      <td>1</td>\n",
       "      <td>0</td>\n",
       "      <td>0</td>\n",
       "      <td>1</td>\n",
       "      <td>1</td>\n",
       "    </tr>\n",
       "    <tr>\n",
       "      <th>3</th>\n",
       "      <td>No Urgent Place</td>\n",
       "      <td>Friend(s)</td>\n",
       "      <td>Sunny</td>\n",
       "      <td>80</td>\n",
       "      <td>2PM</td>\n",
       "      <td>Coffee House</td>\n",
       "      <td>2h</td>\n",
       "      <td>Female</td>\n",
       "      <td>21</td>\n",
       "      <td>Unmarried partner</td>\n",
       "      <td>...</td>\n",
       "      <td>never</td>\n",
       "      <td>NaN</td>\n",
       "      <td>4~8</td>\n",
       "      <td>1~3</td>\n",
       "      <td>1</td>\n",
       "      <td>1</td>\n",
       "      <td>0</td>\n",
       "      <td>0</td>\n",
       "      <td>1</td>\n",
       "      <td>0</td>\n",
       "    </tr>\n",
       "    <tr>\n",
       "      <th>4</th>\n",
       "      <td>No Urgent Place</td>\n",
       "      <td>Friend(s)</td>\n",
       "      <td>Sunny</td>\n",
       "      <td>80</td>\n",
       "      <td>2PM</td>\n",
       "      <td>Coffee House</td>\n",
       "      <td>1d</td>\n",
       "      <td>Female</td>\n",
       "      <td>21</td>\n",
       "      <td>Unmarried partner</td>\n",
       "      <td>...</td>\n",
       "      <td>never</td>\n",
       "      <td>NaN</td>\n",
       "      <td>4~8</td>\n",
       "      <td>1~3</td>\n",
       "      <td>1</td>\n",
       "      <td>1</td>\n",
       "      <td>0</td>\n",
       "      <td>0</td>\n",
       "      <td>1</td>\n",
       "      <td>0</td>\n",
       "    </tr>\n",
       "  </tbody>\n",
       "</table>\n",
       "<p>5 rows × 26 columns</p>\n",
       "</div>"
      ],
      "text/plain": [
       "       destination  passanger weather  temperature  time  \\\n",
       "0  No Urgent Place      Alone   Sunny           55   2PM   \n",
       "1  No Urgent Place  Friend(s)   Sunny           80  10AM   \n",
       "2  No Urgent Place  Friend(s)   Sunny           80  10AM   \n",
       "3  No Urgent Place  Friend(s)   Sunny           80   2PM   \n",
       "4  No Urgent Place  Friend(s)   Sunny           80   2PM   \n",
       "\n",
       "                  coupon expiration  gender age      maritalStatus  ...  \\\n",
       "0        Restaurant(<20)         1d  Female  21  Unmarried partner  ...   \n",
       "1           Coffee House         2h  Female  21  Unmarried partner  ...   \n",
       "2  Carry out & Take away         2h  Female  21  Unmarried partner  ...   \n",
       "3           Coffee House         2h  Female  21  Unmarried partner  ...   \n",
       "4           Coffee House         1d  Female  21  Unmarried partner  ...   \n",
       "\n",
       "   CoffeeHouse CarryAway RestaurantLessThan20 Restaurant20To50  \\\n",
       "0        never       NaN                  4~8              1~3   \n",
       "1        never       NaN                  4~8              1~3   \n",
       "2        never       NaN                  4~8              1~3   \n",
       "3        never       NaN                  4~8              1~3   \n",
       "4        never       NaN                  4~8              1~3   \n",
       "\n",
       "  toCoupon_GEQ5min toCoupon_GEQ15min toCoupon_GEQ25min direction_same  \\\n",
       "0                1                 0                 0              0   \n",
       "1                1                 0                 0              0   \n",
       "2                1                 1                 0              0   \n",
       "3                1                 1                 0              0   \n",
       "4                1                 1                 0              0   \n",
       "\n",
       "  direction_opp  Y  \n",
       "0             1  1  \n",
       "1             1  0  \n",
       "2             1  1  \n",
       "3             1  0  \n",
       "4             1  0  \n",
       "\n",
       "[5 rows x 26 columns]"
      ]
     },
     "execution_count": 87,
     "metadata": {},
     "output_type": "execute_result"
    }
   ],
   "source": [
    "data.head()"
   ]
  },
  {
   "cell_type": "markdown",
   "metadata": {},
   "source": [
    "2. Investigate the dataset for missing or problematic data."
   ]
  },
  {
   "cell_type": "code",
   "execution_count": 88,
   "metadata": {},
   "outputs": [
    {
     "name": "stdout",
     "output_type": "stream",
     "text": [
      "car                     12576\n",
      "Bar                       107\n",
      "CoffeeHouse               217\n",
      "CarryAway                 151\n",
      "RestaurantLessThan20      130\n",
      "Restaurant20To50          189\n",
      "dtype: int64\n"
     ]
    }
   ],
   "source": [
    "# Used isnull function to get the null values and sum function to get the count of rows for null values. \n",
    "null_counts = data.isnull().sum()\n",
    "# Then filtered the data to greater than 0 to only get the columns with null values.\n",
    "columns_with_null = null_counts[null_counts > 0]\n",
    "print(columns_with_null)"
   ]
  },
  {
   "cell_type": "markdown",
   "metadata": {},
   "source": []
  },
  {
   "cell_type": "code",
   "execution_count": 89,
   "metadata": {},
   "outputs": [
    {
     "name": "stdout",
     "output_type": "stream",
     "text": [
      "Scooter and motorcycle                      22\n",
      "do not drive                                22\n",
      "Mazda5                                      22\n",
      "Car that is too old to install Onstar :D    21\n",
      "crossover                                   21\n",
      "Name: car, dtype: int64\n"
     ]
    }
   ],
   "source": [
    "# Analyzed the columns with null values to see the data present in them by using value_counts function.\n",
    "value_counts = data['car'].value_counts()\n",
    "print(value_counts)"
   ]
  },
  {
   "cell_type": "code",
   "execution_count": 90,
   "metadata": {},
   "outputs": [
    {
     "name": "stdout",
     "output_type": "stream",
     "text": [
      "never    5197\n",
      "less1    3482\n",
      "1~3      2473\n",
      "4~8      1076\n",
      "gt8       349\n",
      "Name: Bar, dtype: int64\n"
     ]
    }
   ],
   "source": [
    "value_counts = data['Bar'].value_counts()\n",
    "print(value_counts)"
   ]
  },
  {
   "cell_type": "code",
   "execution_count": 91,
   "metadata": {},
   "outputs": [
    {
     "name": "stdout",
     "output_type": "stream",
     "text": [
      "less1    3385\n",
      "1~3      3225\n",
      "never    2962\n",
      "4~8      1784\n",
      "gt8      1111\n",
      "Name: CoffeeHouse, dtype: int64\n"
     ]
    }
   ],
   "source": [
    "value_counts = data['CoffeeHouse'].value_counts()\n",
    "print(value_counts)"
   ]
  },
  {
   "cell_type": "code",
   "execution_count": 92,
   "metadata": {},
   "outputs": [
    {
     "name": "stdout",
     "output_type": "stream",
     "text": [
      "1~3      4672\n",
      "4~8      4258\n",
      "less1    1856\n",
      "gt8      1594\n",
      "never     153\n",
      "Name: CarryAway, dtype: int64\n"
     ]
    }
   ],
   "source": [
    "value_counts = data['CarryAway'].value_counts()\n",
    "print(value_counts)"
   ]
  },
  {
   "cell_type": "code",
   "execution_count": 93,
   "metadata": {},
   "outputs": [
    {
     "name": "stdout",
     "output_type": "stream",
     "text": [
      "1~3      5376\n",
      "4~8      3580\n",
      "less1    2093\n",
      "gt8      1285\n",
      "never     220\n",
      "Name: RestaurantLessThan20, dtype: int64\n"
     ]
    }
   ],
   "source": [
    "value_counts = data['RestaurantLessThan20'].value_counts()\n",
    "print(value_counts)"
   ]
  },
  {
   "cell_type": "code",
   "execution_count": 94,
   "metadata": {},
   "outputs": [
    {
     "name": "stdout",
     "output_type": "stream",
     "text": [
      "less1    6077\n",
      "1~3      3290\n",
      "never    2136\n",
      "4~8       728\n",
      "gt8       264\n",
      "Name: Restaurant20To50, dtype: int64\n"
     ]
    }
   ],
   "source": [
    "value_counts = data['Restaurant20To50'].value_counts()\n",
    "print(value_counts)"
   ]
  },
  {
   "cell_type": "markdown",
   "metadata": {},
   "source": [
    "3. Decide what to do about your missing data -- drop, replace, other..."
   ]
  },
  {
   "cell_type": "markdown",
   "metadata": {},
   "source": []
  },
  {
   "cell_type": "code",
   "execution_count": 95,
   "metadata": {},
   "outputs": [
    {
     "name": "stdout",
     "output_type": "stream",
     "text": [
      "           destination  passanger weather  temperature  time  \\\n",
      "0      No Urgent Place      Alone   Sunny           55   2PM   \n",
      "1      No Urgent Place  Friend(s)   Sunny           80  10AM   \n",
      "2      No Urgent Place  Friend(s)   Sunny           80  10AM   \n",
      "3      No Urgent Place  Friend(s)   Sunny           80   2PM   \n",
      "4      No Urgent Place  Friend(s)   Sunny           80   2PM   \n",
      "...                ...        ...     ...          ...   ...   \n",
      "12679             Home    Partner   Rainy           55   6PM   \n",
      "12680             Work      Alone   Rainy           55   7AM   \n",
      "12681             Work      Alone   Snowy           30   7AM   \n",
      "12682             Work      Alone   Snowy           30   7AM   \n",
      "12683             Work      Alone   Sunny           80   7AM   \n",
      "\n",
      "                      coupon expiration  gender age      maritalStatus  ...  \\\n",
      "0            Restaurant(<20)         1d  Female  21  Unmarried partner  ...   \n",
      "1               Coffee House         2h  Female  21  Unmarried partner  ...   \n",
      "2      Carry out & Take away         2h  Female  21  Unmarried partner  ...   \n",
      "3               Coffee House         2h  Female  21  Unmarried partner  ...   \n",
      "4               Coffee House         1d  Female  21  Unmarried partner  ...   \n",
      "...                      ...        ...     ...  ..                ...  ...   \n",
      "12679  Carry out & Take away         1d    Male  26             Single  ...   \n",
      "12680  Carry out & Take away         1d    Male  26             Single  ...   \n",
      "12681           Coffee House         1d    Male  26             Single  ...   \n",
      "12682                    Bar         1d    Male  26             Single  ...   \n",
      "12683      Restaurant(20-50)         2h    Male  26             Single  ...   \n",
      "\n",
      "       CoffeeHouse CarryAway RestaurantLessThan20 Restaurant20To50  \\\n",
      "0            never       NaN                  4~8              1~3   \n",
      "1            never       NaN                  4~8              1~3   \n",
      "2            never       NaN                  4~8              1~3   \n",
      "3            never       NaN                  4~8              1~3   \n",
      "4            never       NaN                  4~8              1~3   \n",
      "...            ...       ...                  ...              ...   \n",
      "12679        never       1~3                  4~8              1~3   \n",
      "12680        never       1~3                  4~8              1~3   \n",
      "12681        never       1~3                  4~8              1~3   \n",
      "12682        never       1~3                  4~8              1~3   \n",
      "12683        never       1~3                  4~8              1~3   \n",
      "\n",
      "      toCoupon_GEQ5min toCoupon_GEQ15min toCoupon_GEQ25min direction_same  \\\n",
      "0                    1                 0                 0              0   \n",
      "1                    1                 0                 0              0   \n",
      "2                    1                 1                 0              0   \n",
      "3                    1                 1                 0              0   \n",
      "4                    1                 1                 0              0   \n",
      "...                ...               ...               ...            ...   \n",
      "12679                1                 0                 0              1   \n",
      "12680                1                 0                 0              0   \n",
      "12681                1                 0                 0              1   \n",
      "12682                1                 1                 1              0   \n",
      "12683                1                 0                 0              1   \n",
      "\n",
      "      direction_opp  Y  \n",
      "0                 1  1  \n",
      "1                 1  0  \n",
      "2                 1  1  \n",
      "3                 1  0  \n",
      "4                 1  0  \n",
      "...             ... ..  \n",
      "12679             0  1  \n",
      "12680             1  1  \n",
      "12681             0  0  \n",
      "12682             1  0  \n",
      "12683             0  0  \n",
      "\n",
      "[12684 rows x 25 columns]\n"
     ]
    }
   ],
   "source": [
    "# Dropped 'car' column as it only has 108 observations among 12684 rows of data\n",
    "data = data.drop('car', axis=1)\n",
    "print(data)"
   ]
  },
  {
   "cell_type": "code",
   "execution_count": 96,
   "metadata": {},
   "outputs": [
    {
     "name": "stdout",
     "output_type": "stream",
     "text": [
      "           destination  passanger weather  temperature  time  \\\n",
      "0      No Urgent Place      Alone   Sunny           55   2PM   \n",
      "1      No Urgent Place  Friend(s)   Sunny           80  10AM   \n",
      "2      No Urgent Place  Friend(s)   Sunny           80  10AM   \n",
      "3      No Urgent Place  Friend(s)   Sunny           80   2PM   \n",
      "4      No Urgent Place  Friend(s)   Sunny           80   2PM   \n",
      "...                ...        ...     ...          ...   ...   \n",
      "12679             Home    Partner   Rainy           55   6PM   \n",
      "12680             Work      Alone   Rainy           55   7AM   \n",
      "12681             Work      Alone   Snowy           30   7AM   \n",
      "12682             Work      Alone   Snowy           30   7AM   \n",
      "12683             Work      Alone   Sunny           80   7AM   \n",
      "\n",
      "                      coupon expiration  gender age      maritalStatus  ...  \\\n",
      "0            Restaurant(<20)         1d  Female  21  Unmarried partner  ...   \n",
      "1               Coffee House         2h  Female  21  Unmarried partner  ...   \n",
      "2      Carry out & Take away         2h  Female  21  Unmarried partner  ...   \n",
      "3               Coffee House         2h  Female  21  Unmarried partner  ...   \n",
      "4               Coffee House         1d  Female  21  Unmarried partner  ...   \n",
      "...                      ...        ...     ...  ..                ...  ...   \n",
      "12679  Carry out & Take away         1d    Male  26             Single  ...   \n",
      "12680  Carry out & Take away         1d    Male  26             Single  ...   \n",
      "12681           Coffee House         1d    Male  26             Single  ...   \n",
      "12682                    Bar         1d    Male  26             Single  ...   \n",
      "12683      Restaurant(20-50)         2h    Male  26             Single  ...   \n",
      "\n",
      "       CoffeeHouse CarryAway RestaurantLessThan20 Restaurant20To50  \\\n",
      "0            never         0                  4~8              1~3   \n",
      "1            never         0                  4~8              1~3   \n",
      "2            never         0                  4~8              1~3   \n",
      "3            never         0                  4~8              1~3   \n",
      "4            never         0                  4~8              1~3   \n",
      "...            ...       ...                  ...              ...   \n",
      "12679        never       1~3                  4~8              1~3   \n",
      "12680        never       1~3                  4~8              1~3   \n",
      "12681        never       1~3                  4~8              1~3   \n",
      "12682        never       1~3                  4~8              1~3   \n",
      "12683        never       1~3                  4~8              1~3   \n",
      "\n",
      "      toCoupon_GEQ5min toCoupon_GEQ15min toCoupon_GEQ25min direction_same  \\\n",
      "0                    1                 0                 0              0   \n",
      "1                    1                 0                 0              0   \n",
      "2                    1                 1                 0              0   \n",
      "3                    1                 1                 0              0   \n",
      "4                    1                 1                 0              0   \n",
      "...                ...               ...               ...            ...   \n",
      "12679                1                 0                 0              1   \n",
      "12680                1                 0                 0              0   \n",
      "12681                1                 0                 0              1   \n",
      "12682                1                 1                 1              0   \n",
      "12683                1                 0                 0              1   \n",
      "\n",
      "      direction_opp  Y  \n",
      "0                 1  1  \n",
      "1                 1  0  \n",
      "2                 1  1  \n",
      "3                 1  0  \n",
      "4                 1  0  \n",
      "...             ... ..  \n",
      "12679             0  1  \n",
      "12680             1  1  \n",
      "12681             0  0  \n",
      "12682             1  0  \n",
      "12683             0  0  \n",
      "\n",
      "[12684 rows x 25 columns]\n"
     ]
    }
   ],
   "source": [
    "# Replaced all the remaining null values with 0\n",
    "null_columns = data.columns[data.isnull().any()]\n",
    "\n",
    "data[null_columns] = data[null_columns].fillna(0)\n",
    "\n",
    "print(data)"
   ]
  },
  {
   "cell_type": "markdown",
   "metadata": {},
   "source": [
    "4. What proportion of the total observations chose to accept the coupon? \n",
    "\n"
   ]
  },
  {
   "cell_type": "code",
   "execution_count": 97,
   "metadata": {},
   "outputs": [
    {
     "name": "stdout",
     "output_type": "stream",
     "text": [
      "56.84326710816777\n"
     ]
    }
   ],
   "source": [
    "# Used value_counts method to get the counts and normalized the data to get percentages\n",
    "value_counts = data['Y'].value_counts(normalize=True) * 100\n",
    "# Printed the percentage of observations who chose to accept coupon\n",
    "percentage_of_coupon_accepted = value_counts[1]\n",
    "print(percentage_of_coupon_accepted)"
   ]
  },
  {
   "cell_type": "markdown",
   "metadata": {},
   "source": [
    "5. Use a bar plot to visualize the `coupon` column."
   ]
  },
  {
   "cell_type": "code",
   "execution_count": 98,
   "metadata": {},
   "outputs": [
    {
     "data": {
      "image/png": "[encoded data removed]",
      "text/plain": [
       "<Figure size 432x288 with 1 Axes>"
      ]
     },
     "metadata": {
      "needs_background": "light"
     },
     "output_type": "display_data"
    }
   ],
   "source": [
    "# Used Seaborn library to get bar plot for Coupon accepted vs denied\n",
    "bar = sns.barplot(data = data.filter(['Y']).value_counts().reset_index(name='count'), x = \"Y\", y = \"count\")\n",
    "# Add title to bar graph\n",
    "plt.title('Coupons accepted vs denied')\n",
    "\n",
    "# x-axis label\n",
    "plt.xlabel('Coupons')\n",
    "\n",
    "# y-axis label\n",
    "plt.ylabel('Values')\n",
    "\n",
    "# Replace bar labels\n",
    "bar.set_xticklabels(['Denied', 'Accepted'])\n",
    "\n",
    "plt.show()"
   ]
  },
  {
   "cell_type": "markdown",
   "metadata": {},
   "source": [
    "6. Use a histogram to visualize the temperature column."
   ]
  },
  {
   "cell_type": "code",
   "execution_count": 99,
   "metadata": {},
   "outputs": [
    {
     "data": {
      "text/plain": [
       "Text(0.5, 1.0, 'Histogram of temperatures')"
      ]
     },
     "execution_count": 99,
     "metadata": {},
     "output_type": "execute_result"
    },
    {
     "data": {
      "image/png": "[encoded data removed]",
      "text/plain": [
       "<Figure size 432x288 with 1 Axes>"
      ]
     },
     "metadata": {
      "needs_background": "light"
     },
     "output_type": "display_data"
    }
   ],
   "source": [
    "# Used Seaborn library to plot a histogram to vizualize temperature\n",
    "hist = sns.histplot(data[\"temperature\"])\n",
    "plt.title('Histogram of temperatures')"
   ]
  },
  {
   "cell_type": "code",
   "execution_count": null,
   "metadata": {},
   "outputs": [],
   "source": []
  },
  {
   "cell_type": "markdown",
   "metadata": {},
   "source": [
    "7. Bar plot to show acceptance rate of different coupons"
   ]
  },
  {
   "cell_type": "code",
   "execution_count": 100,
   "metadata": {},
   "outputs": [],
   "source": [
    "# Created a definition to categorize based on the conditions given\n",
    "def categorize(row):\n",
    "    if (row['coupon'] in ['Bar']):\n",
    "        return \"Bar\"\n",
    "    if (row['coupon'] in ['Restaurant(<20)']):\n",
    "        return \"Restaurant(<20)\"\n",
    "    if (row['coupon'] in ['Carry out & Take away']):\n",
    "        return \"Carry out & Take away\"\n",
    "    if (row['coupon'] in ['Coffee House']):\n",
    "        return \"Coffee House\"\n",
    "    else:\n",
    "        return \"Restaurant(20-50)\"\n",
    "\n",
    "# Added the column to the table\n",
    "data['Group'] = data.apply(categorize, axis=1)\n"
   ]
  },
  {
   "cell_type": "code",
   "execution_count": 101,
   "metadata": {
    "scrolled": false
   },
   "outputs": [
    {
     "name": "stdout",
     "output_type": "stream",
     "text": [
      "Coffee House             3996\n",
      "Restaurant(<20)          2786\n",
      "Carry out & Take away    2393\n",
      "Bar                      2017\n",
      "Restaurant(20-50)        1492\n",
      "Name: Group, dtype: int64\n"
     ]
    }
   ],
   "source": [
    "value_counts = data['Group'].value_counts()\n",
    "print(value_counts)"
   ]
  },
  {
   "cell_type": "code",
   "execution_count": 102,
   "metadata": {},
   "outputs": [
    {
     "name": "stdout",
     "output_type": "stream",
     "text": [
      "                   Group  Y     count\n",
      "0           Coffee House  0  0.157758\n",
      "1           Coffee House  1  0.157285\n",
      "2        Restaurant(<20)  1  0.155314\n",
      "3  Carry out & Take away  1  0.138757\n",
      "4                    Bar  0  0.093819\n",
      "5      Restaurant(20-50)  0  0.065752\n",
      "6                    Bar  1  0.065200\n",
      "7        Restaurant(<20)  0  0.064333\n",
      "8      Restaurant(20-50)  1  0.051876\n",
      "9  Carry out & Take away  0  0.049905\n"
     ]
    }
   ],
   "source": [
    "# Created a new table for acceptance percentage based on time\n",
    "new_df = data.filter(['Group', 'Y'], axis=1).value_counts(normalize=True).reset_index(name='count')\n",
    "print(new_df)"
   ]
  },
  {
   "cell_type": "code",
   "execution_count": 103,
   "metadata": {},
   "outputs": [
    {
     "data": {
      "text/plain": [
       "(array([0, 1, 2, 3, 4]),\n",
       " [Text(0, 0, 'Restaurant(20-50)'),\n",
       "  Text(1, 0, 'Bar'),\n",
       "  Text(2, 0, 'Carry out & Take away'),\n",
       "  Text(3, 0, 'Restaurant(<20)'),\n",
       "  Text(4, 0, 'Coffee House')])"
      ]
     },
     "execution_count": 103,
     "metadata": {},
     "output_type": "execute_result"
    },
    {
     "data": {
      "image/png": "[encoded data removed]",
      "text/plain": [
       "<Figure size 432x288 with 1 Axes>"
      ]
     },
     "metadata": {
      "needs_background": "light"
     },
     "output_type": "display_data"
    }
   ],
   "source": [
    "# Created a bar plot for the percentage accepted based on the time of the day\n",
    "# Filtered to only acceptance data\n",
    "# Sorted by percentage acceptance\n",
    "bar = sns.barplot(data = new_df.query('Y == 1').sort_values(\"count\"), x = \"Group\", y = \"count\")\n",
    "\n",
    "# Add title to bar graph\n",
    "plt.title('Percentage acceptance of different coupons')\n",
    "\n",
    "# x-axis label\n",
    "plt.xlabel('Coupons')\n",
    "\n",
    "# y-axis label\n",
    "plt.ylabel('Percentage accepatnce')\n",
    "\n",
    "# Rotate x-axis labels\n",
    "plt.xticks(rotation=45)\n"
   ]
  },
  {
   "cell_type": "markdown",
   "metadata": {},
   "source": [
    "Hypothesis on entire data\n",
    "The percentage acceptance of coupons on entire data set is 56.8% with the coupons inorder from highest to lowest   \n",
    "    Coffee House, \n",
    "    Restaurant(<20), \n",
    "    Carry out & Take away, \n",
    "    Bar, \n",
    "    Restaurant(20-50)"
   ]
  },
  {
   "cell_type": "code",
   "execution_count": null,
   "metadata": {},
   "outputs": [],
   "source": []
  },
  {
   "cell_type": "code",
   "execution_count": null,
   "metadata": {},
   "outputs": [],
   "source": []
  },
  {
   "cell_type": "code",
   "execution_count": null,
   "metadata": {},
   "outputs": [],
   "source": []
  },
  {
   "cell_type": "code",
   "execution_count": null,
   "metadata": {},
   "outputs": [],
   "source": []
  },
  {
   "cell_type": "markdown",
   "metadata": {},
   "source": [
    "**Investigating the Bar Coupons**\n",
    "\n",
    "Now, we will lead you through an exploration of just the bar related coupons.  \n",
    "\n",
    "1. Create a new `DataFrame` that contains just the bar coupons.\n"
   ]
  },
  {
   "cell_type": "code",
   "execution_count": 104,
   "metadata": {},
   "outputs": [
    {
     "name": "stdout",
     "output_type": "stream",
     "text": [
      "Coffee House             3996\n",
      "Restaurant(<20)          2786\n",
      "Carry out & Take away    2393\n",
      "Bar                      2017\n",
      "Restaurant(20-50)        1492\n",
      "Name: coupon, dtype: int64\n"
     ]
    }
   ],
   "source": [
    "# Analyzed the \"coupon\" column to see the data present in them by using value_counts function.\n",
    "value_counts = data['coupon'].value_counts()\n",
    "print(value_counts)"
   ]
  },
  {
   "cell_type": "code",
   "execution_count": 105,
   "metadata": {},
   "outputs": [],
   "source": [
    "# Created a new dataframe for bar coupons\n",
    "bar_coupons = data.query('coupon == \"Bar\"').reset_index().drop('index', axis=1)"
   ]
  },
  {
   "cell_type": "code",
   "execution_count": 106,
   "metadata": {},
   "outputs": [
    {
     "name": "stdout",
     "output_type": "stream",
     "text": [
      "<class 'pandas.core.frame.DataFrame'>\n",
      "RangeIndex: 2017 entries, 0 to 2016\n",
      "Data columns (total 26 columns):\n",
      " #   Column                Non-Null Count  Dtype \n",
      "---  ------                --------------  ----- \n",
      " 0   destination           2017 non-null   object\n",
      " 1   passanger             2017 non-null   object\n",
      " 2   weather               2017 non-null   object\n",
      " 3   temperature           2017 non-null   int64 \n",
      " 4   time                  2017 non-null   object\n",
      " 5   coupon                2017 non-null   object\n",
      " 6   expiration            2017 non-null   object\n",
      " 7   gender                2017 non-null   object\n",
      " 8   age                   2017 non-null   object\n",
      " 9   maritalStatus         2017 non-null   object\n",
      " 10  has_children          2017 non-null   int64 \n",
      " 11  education             2017 non-null   object\n",
      " 12  occupation            2017 non-null   object\n",
      " 13  income                2017 non-null   object\n",
      " 14  Bar                   2017 non-null   object\n",
      " 15  CoffeeHouse           2017 non-null   object\n",
      " 16  CarryAway             2017 non-null   object\n",
      " 17  RestaurantLessThan20  2017 non-null   object\n",
      " 18  Restaurant20To50      2017 non-null   object\n",
      " 19  toCoupon_GEQ5min      2017 non-null   int64 \n",
      " 20  toCoupon_GEQ15min     2017 non-null   int64 \n",
      " 21  toCoupon_GEQ25min     2017 non-null   int64 \n",
      " 22  direction_same        2017 non-null   int64 \n",
      " 23  direction_opp         2017 non-null   int64 \n",
      " 24  Y                     2017 non-null   int64 \n",
      " 25  Group                 2017 non-null   object\n",
      "dtypes: int64(8), object(18)\n",
      "memory usage: 409.8+ KB\n"
     ]
    }
   ],
   "source": [
    "bar_coupons.info()"
   ]
  },
  {
   "cell_type": "code",
   "execution_count": 107,
   "metadata": {},
   "outputs": [
    {
     "data": {
      "text/html": [
       "<div>\n",
       "<style scoped>\n",
       "    .dataframe tbody tr th:only-of-type {\n",
       "        vertical-align: middle;\n",
       "    }\n",
       "\n",
       "    .dataframe tbody tr th {\n",
       "        vertical-align: top;\n",
       "    }\n",
       "\n",
       "    .dataframe thead th {\n",
       "        text-align: right;\n",
       "    }\n",
       "</style>\n",
       "<table border=\"1\" class=\"dataframe\">\n",
       "  <thead>\n",
       "    <tr style=\"text-align: right;\">\n",
       "      <th></th>\n",
       "      <th>destination</th>\n",
       "      <th>passanger</th>\n",
       "      <th>weather</th>\n",
       "      <th>temperature</th>\n",
       "      <th>time</th>\n",
       "      <th>coupon</th>\n",
       "      <th>expiration</th>\n",
       "      <th>gender</th>\n",
       "      <th>age</th>\n",
       "      <th>maritalStatus</th>\n",
       "      <th>...</th>\n",
       "      <th>CarryAway</th>\n",
       "      <th>RestaurantLessThan20</th>\n",
       "      <th>Restaurant20To50</th>\n",
       "      <th>toCoupon_GEQ5min</th>\n",
       "      <th>toCoupon_GEQ15min</th>\n",
       "      <th>toCoupon_GEQ25min</th>\n",
       "      <th>direction_same</th>\n",
       "      <th>direction_opp</th>\n",
       "      <th>Y</th>\n",
       "      <th>Group</th>\n",
       "    </tr>\n",
       "  </thead>\n",
       "  <tbody>\n",
       "    <tr>\n",
       "      <th>0</th>\n",
       "      <td>No Urgent Place</td>\n",
       "      <td>Kid(s)</td>\n",
       "      <td>Sunny</td>\n",
       "      <td>80</td>\n",
       "      <td>10AM</td>\n",
       "      <td>Bar</td>\n",
       "      <td>1d</td>\n",
       "      <td>Female</td>\n",
       "      <td>21</td>\n",
       "      <td>Unmarried partner</td>\n",
       "      <td>...</td>\n",
       "      <td>0</td>\n",
       "      <td>4~8</td>\n",
       "      <td>1~3</td>\n",
       "      <td>1</td>\n",
       "      <td>1</td>\n",
       "      <td>0</td>\n",
       "      <td>0</td>\n",
       "      <td>1</td>\n",
       "      <td>0</td>\n",
       "      <td>Bar</td>\n",
       "    </tr>\n",
       "    <tr>\n",
       "      <th>1</th>\n",
       "      <td>Home</td>\n",
       "      <td>Alone</td>\n",
       "      <td>Sunny</td>\n",
       "      <td>55</td>\n",
       "      <td>6PM</td>\n",
       "      <td>Bar</td>\n",
       "      <td>1d</td>\n",
       "      <td>Female</td>\n",
       "      <td>21</td>\n",
       "      <td>Unmarried partner</td>\n",
       "      <td>...</td>\n",
       "      <td>0</td>\n",
       "      <td>4~8</td>\n",
       "      <td>1~3</td>\n",
       "      <td>1</td>\n",
       "      <td>0</td>\n",
       "      <td>0</td>\n",
       "      <td>1</td>\n",
       "      <td>0</td>\n",
       "      <td>1</td>\n",
       "      <td>Bar</td>\n",
       "    </tr>\n",
       "    <tr>\n",
       "      <th>2</th>\n",
       "      <td>Work</td>\n",
       "      <td>Alone</td>\n",
       "      <td>Sunny</td>\n",
       "      <td>55</td>\n",
       "      <td>7AM</td>\n",
       "      <td>Bar</td>\n",
       "      <td>1d</td>\n",
       "      <td>Female</td>\n",
       "      <td>21</td>\n",
       "      <td>Unmarried partner</td>\n",
       "      <td>...</td>\n",
       "      <td>0</td>\n",
       "      <td>4~8</td>\n",
       "      <td>1~3</td>\n",
       "      <td>1</td>\n",
       "      <td>1</td>\n",
       "      <td>1</td>\n",
       "      <td>0</td>\n",
       "      <td>1</td>\n",
       "      <td>0</td>\n",
       "      <td>Bar</td>\n",
       "    </tr>\n",
       "    <tr>\n",
       "      <th>3</th>\n",
       "      <td>No Urgent Place</td>\n",
       "      <td>Friend(s)</td>\n",
       "      <td>Sunny</td>\n",
       "      <td>80</td>\n",
       "      <td>10AM</td>\n",
       "      <td>Bar</td>\n",
       "      <td>1d</td>\n",
       "      <td>Male</td>\n",
       "      <td>21</td>\n",
       "      <td>Single</td>\n",
       "      <td>...</td>\n",
       "      <td>4~8</td>\n",
       "      <td>4~8</td>\n",
       "      <td>less1</td>\n",
       "      <td>1</td>\n",
       "      <td>0</td>\n",
       "      <td>0</td>\n",
       "      <td>0</td>\n",
       "      <td>1</td>\n",
       "      <td>1</td>\n",
       "      <td>Bar</td>\n",
       "    </tr>\n",
       "    <tr>\n",
       "      <th>4</th>\n",
       "      <td>Home</td>\n",
       "      <td>Alone</td>\n",
       "      <td>Sunny</td>\n",
       "      <td>55</td>\n",
       "      <td>6PM</td>\n",
       "      <td>Bar</td>\n",
       "      <td>1d</td>\n",
       "      <td>Male</td>\n",
       "      <td>21</td>\n",
       "      <td>Single</td>\n",
       "      <td>...</td>\n",
       "      <td>4~8</td>\n",
       "      <td>4~8</td>\n",
       "      <td>less1</td>\n",
       "      <td>1</td>\n",
       "      <td>0</td>\n",
       "      <td>0</td>\n",
       "      <td>1</td>\n",
       "      <td>0</td>\n",
       "      <td>1</td>\n",
       "      <td>Bar</td>\n",
       "    </tr>\n",
       "  </tbody>\n",
       "</table>\n",
       "<p>5 rows × 26 columns</p>\n",
       "</div>"
      ],
      "text/plain": [
       "       destination  passanger weather  temperature  time coupon expiration  \\\n",
       "0  No Urgent Place     Kid(s)   Sunny           80  10AM    Bar         1d   \n",
       "1             Home      Alone   Sunny           55   6PM    Bar         1d   \n",
       "2             Work      Alone   Sunny           55   7AM    Bar         1d   \n",
       "3  No Urgent Place  Friend(s)   Sunny           80  10AM    Bar         1d   \n",
       "4             Home      Alone   Sunny           55   6PM    Bar         1d   \n",
       "\n",
       "   gender age      maritalStatus  ...  CarryAway RestaurantLessThan20  \\\n",
       "0  Female  21  Unmarried partner  ...          0                  4~8   \n",
       "1  Female  21  Unmarried partner  ...          0                  4~8   \n",
       "2  Female  21  Unmarried partner  ...          0                  4~8   \n",
       "3    Male  21             Single  ...        4~8                  4~8   \n",
       "4    Male  21             Single  ...        4~8                  4~8   \n",
       "\n",
       "  Restaurant20To50 toCoupon_GEQ5min toCoupon_GEQ15min toCoupon_GEQ25min  \\\n",
       "0              1~3                1                 1                 0   \n",
       "1              1~3                1                 0                 0   \n",
       "2              1~3                1                 1                 1   \n",
       "3            less1                1                 0                 0   \n",
       "4            less1                1                 0                 0   \n",
       "\n",
       "  direction_same direction_opp  Y  Group  \n",
       "0              0             1  0    Bar  \n",
       "1              1             0  1    Bar  \n",
       "2              0             1  0    Bar  \n",
       "3              0             1  1    Bar  \n",
       "4              1             0  1    Bar  \n",
       "\n",
       "[5 rows x 26 columns]"
      ]
     },
     "execution_count": 107,
     "metadata": {},
     "output_type": "execute_result"
    }
   ],
   "source": [
    "bar_coupons.head()"
   ]
  },
  {
   "cell_type": "markdown",
   "metadata": {},
   "source": [
    "2. What proportion of bar coupons were accepted?\n"
   ]
  },
  {
   "cell_type": "code",
   "execution_count": 108,
   "metadata": {},
   "outputs": [
    {
     "name": "stdout",
     "output_type": "stream",
     "text": [
      "41.00148735746158\n"
     ]
    }
   ],
   "source": [
    "value_counts = bar_coupons['Y'].value_counts(normalize=True) * 100\n",
    "\n",
    "percentage_of_bar_coupon_accepted = value_counts[1]\n",
    "\n",
    "print(percentage_of_bar_coupon_accepted)"
   ]
  },
  {
   "cell_type": "code",
   "execution_count": 139,
   "metadata": {},
   "outputs": [
    {
     "data": {
      "image/png": "[encoded data removed]",
      "text/plain": [
       "<Figure size 432x288 with 1 Axes>"
      ]
     },
     "metadata": {
      "needs_background": "light"
     },
     "output_type": "display_data"
    }
   ],
   "source": [
    "# Used Seaborn library to get bar plot for Bar Coupons accepted vs denied\n",
    "bar = sns.barplot(data = bar_coupons.filter(['Y']).value_counts().reset_index(name='count'), x = \"Y\", y = \"count\")\n",
    "# Add title to bar graph\n",
    "plt.title('Bar Coupons accepted vs denied')\n",
    "\n",
    "# x-axis label\n",
    "plt.xlabel('Coupons')\n",
    "\n",
    "# y-axis label\n",
    "plt.ylabel('Values')\n",
    "\n",
    "# Replace bar labels\n",
    "bar.set_xticklabels(['Denied', 'Accepted'])\n",
    "\n",
    "plt.show()"
   ]
  },
  {
   "cell_type": "markdown",
   "metadata": {},
   "source": [
    "3. Compare the acceptance rate between those who went to a bar 3 or fewer times a month to those who went more.\n"
   ]
  },
  {
   "cell_type": "code",
   "execution_count": 109,
   "metadata": {},
   "outputs": [
    {
     "name": "stdout",
     "output_type": "stream",
     "text": [
      "never    830\n",
      "less1    570\n",
      "1~3      397\n",
      "4~8      150\n",
      "gt8       49\n",
      "0         21\n",
      "Name: Bar, dtype: int64\n"
     ]
    }
   ],
   "source": [
    "# Analyzed the \"Bar\" column to see the data present in them by using value_counts function.\n",
    "value_counts = bar_coupons['Bar'].value_counts()\n",
    "print(value_counts)"
   ]
  },
  {
   "cell_type": "code",
   "execution_count": 110,
   "metadata": {},
   "outputs": [
    {
     "name": "stdout",
     "output_type": "stream",
     "text": [
      "percent_acceptance_Greater_than_3_times: 76.88442211055276\n",
      "percent_acceptance_three_or_few_times: 37.073707370737075\n"
     ]
    }
   ],
   "source": [
    "# Created a definition to categorize the \"Bar\" column\n",
    "def categorize(category):\n",
    "    if category in ['4~8', 'gt8']:\n",
    "        return 'Group1'\n",
    "    else:\n",
    "        return 'Group2'\n",
    "# Added the column to the table\n",
    "bar_coupons['Group'] = bar_coupons['Bar'].apply(categorize)\n",
    "\n",
    "#Calculated the percentages below by using value_count method\n",
    "Greater_than_3_times = bar_coupons.query('Group==\"Group1\"')\n",
    "# print(Greater_than_3_times)\n",
    "value_counts = Greater_than_3_times[\"Y\"].value_counts(normalize=True) * 100\n",
    "# print(value_counts)\n",
    "Greater_than_3_times = value_counts[1]\n",
    "print(\"percent_acceptance_Greater_than_3_times:\", Greater_than_3_times)\n",
    "\n",
    "three_or_few_times = bar_coupons.query('Group==\"Group2\"')\n",
    "value_counts = three_or_few_times[\"Y\"].value_counts(normalize=True) * 100\n",
    "# print(value_counts)\n",
    "three_or_few_times = value_counts[1]\n",
    "print(\"percent_acceptance_three_or_few_times:\",three_or_few_times)"
   ]
  },
  {
   "cell_type": "markdown",
   "metadata": {},
   "source": [
    "4. Compare the acceptance rate between drivers who go to a bar more than once a month and are over the age of 25 to the all others.  Is there a difference?\n"
   ]
  },
  {
   "cell_type": "code",
   "execution_count": 111,
   "metadata": {},
   "outputs": [
    {
     "name": "stdout",
     "output_type": "stream",
     "text": [
      "never    830\n",
      "less1    570\n",
      "1~3      397\n",
      "4~8      150\n",
      "gt8       49\n",
      "0         21\n",
      "Name: Bar, dtype: int64\n"
     ]
    }
   ],
   "source": [
    "value_counts = bar_coupons['Bar'].value_counts()\n",
    "print(value_counts)"
   ]
  },
  {
   "cell_type": "code",
   "execution_count": 112,
   "metadata": {},
   "outputs": [
    {
     "name": "stdout",
     "output_type": "stream",
     "text": [
      "21         417\n",
      "26         395\n",
      "31         339\n",
      "50plus     283\n",
      "36         209\n",
      "41         178\n",
      "46         109\n",
      "below21     87\n",
      "Name: age, dtype: int64\n"
     ]
    }
   ],
   "source": [
    "value_counts = bar_coupons['age'].value_counts()\n",
    "print(value_counts)"
   ]
  },
  {
   "cell_type": "code",
   "execution_count": 113,
   "metadata": {},
   "outputs": [
    {
     "name": "stdout",
     "output_type": "stream",
     "text": [
      "percent_acceptance_bar_above_1_and_age_above_25: 69.52380952380952\n",
      "percent_acceptance_bar_below_1_or_age_below_25: 33.500313087038194\n"
     ]
    }
   ],
   "source": [
    "# Created a definition to categorize based on the conditions given\n",
    "def categorize(row):\n",
    "    if (row['Bar'] in ['4~8', 'gt8', '1~3']) and row['age'] not in ['21','below21']:\n",
    "        return \"Group1\"\n",
    "    else:\n",
    "        return \"Group2\"\n",
    "    \n",
    "# Added the column to the table\n",
    "bar_coupons['Group'] = bar_coupons.apply(categorize, axis=1)\n",
    "\n",
    "#Calculated the percentage acceptance for the 2 groups created below by using value_count method\n",
    "bar_above_1_and_age_above_25 = bar_coupons.query('Group==\"Group1\"')\n",
    "# print(bar_above_1_and_age_above_25)\n",
    "value_counts = bar_above_1_and_age_above_25[\"Y\"].value_counts(normalize=True) * 100\n",
    "# print(value_counts)\n",
    "bar_above_1_and_age_above_25 = value_counts[1]\n",
    "print(\"percent_acceptance_bar_above_1_and_age_above_25:\", bar_above_1_and_age_above_25)\n",
    "\n",
    "bar_below_1_or_age_below_25 = bar_coupons.query('Group==\"Group2\"')\n",
    "value_counts = bar_below_1_or_age_below_25[\"Y\"].value_counts(normalize=True) * 100\n",
    "#print(value_counts)\n",
    "bar_below_1_or_age_below_25 = value_counts[1]\n",
    "print(\"percent_acceptance_bar_below_1_or_age_below_25:\",bar_below_1_or_age_below_25)\n"
   ]
  },
  {
   "cell_type": "raw",
   "metadata": {},
   "source": [
    "5. Use the same process to compare the acceptance rate between drivers who go to bars more than once a month and had passengers that were not a kid and had occupations other than farming, fishing, or forestry. \n"
   ]
  },
  {
   "cell_type": "code",
   "execution_count": 114,
   "metadata": {},
   "outputs": [
    {
     "name": "stdout",
     "output_type": "stream",
     "text": [
      "Alone        1200\n",
      "Friend(s)     337\n",
      "Partner       274\n",
      "Kid(s)        206\n",
      "Name: passanger, dtype: int64\n"
     ]
    }
   ],
   "source": [
    "value_counts = bar_coupons['passanger'].value_counts()\n",
    "print(value_counts)"
   ]
  },
  {
   "cell_type": "code",
   "execution_count": 115,
   "metadata": {
    "scrolled": true
   },
   "outputs": [
    {
     "name": "stdout",
     "output_type": "stream",
     "text": [
      "Unemployed                                   301\n",
      "Student                                      251\n",
      "Computer & Mathematical                      232\n",
      "Sales & Related                              178\n",
      "Education&Training&Library                   140\n",
      "Management                                   119\n",
      "Office & Administrative Support              105\n",
      "Arts Design Entertainment Sports & Media     100\n",
      "Business & Financial                          89\n",
      "Retired                                       75\n",
      "Food Preparation & Serving Related            48\n",
      "Community & Social Services                   44\n",
      "Healthcare Support                            44\n",
      "Healthcare Practitioners & Technical          41\n",
      "Transportation & Material Moving              35\n",
      "Legal                                         34\n",
      "Protective Service                            27\n",
      "Architecture & Engineering                    27\n",
      "Personal Care & Service                       27\n",
      "Construction & Extraction                     24\n",
      "Life Physical Social Science                  24\n",
      "Production Occupations                        18\n",
      "Installation Maintenance & Repair             18\n",
      "Farming Fishing & Forestry                     9\n",
      "Building & Grounds Cleaning & Maintenance      7\n",
      "Name: occupation, dtype: int64\n"
     ]
    }
   ],
   "source": [
    "value_counts = bar_coupons['occupation'].value_counts()\n",
    "print(value_counts)"
   ]
  },
  {
   "cell_type": "code",
   "execution_count": 116,
   "metadata": {},
   "outputs": [
    {
     "name": "stdout",
     "output_type": "stream",
     "text": [
      "percent_acceptance_bar_above_1_and_with_passanger_no_kids_and_no_farming: 71.7948717948718\n",
      "all_others: 37.70581778265642\n"
     ]
    }
   ],
   "source": [
    "# Created a definition to categorize based on the conditions given\n",
    "def categorize(row):\n",
    "    if (row['Bar'] in ['4~8', 'gt8', '1~3']) and row['passanger'] not in ['Kid(s)', 'Alone'] and row['occupation'] not in ['Farming Fishing & Forestry']:\n",
    "        return \"Group1\"\n",
    "    else:\n",
    "        return \"Group2\"\n",
    "\n",
    "# Added the column to the table\n",
    "bar_coupons['Group'] = bar_coupons.apply(categorize, axis=1)\n",
    "\n",
    "#Calculated the percentage acceptance for the 2 groups created below by using value_count method\n",
    "Group_1 = bar_coupons.query('Group==\"Group1\"')\n",
    "# print(bar_above_1_and_age_above_25)\n",
    "value_counts = Group_1[\"Y\"].value_counts(normalize=True) * 100\n",
    "# print(value_counts)\n",
    "Group_1 = value_counts[1]\n",
    "print(\"percent_acceptance_bar_above_1_and_with_passanger_no_kids_and_no_farming:\", Group_1)\n",
    "\n",
    "Group_2 = bar_coupons.query('Group==\"Group2\"')\n",
    "value_counts = Group_2[\"Y\"].value_counts(normalize=True) * 100\n",
    "# print(value_counts)\n",
    "Group_2 = value_counts[1]\n",
    "print(\"all_others:\", Group_2)"
   ]
  },
  {
   "cell_type": "markdown",
   "metadata": {},
   "source": [
    "6. Compare the acceptance rates between those drivers who:\n",
    "\n",
    "- go to bars more than once a month, had passengers that were not a kid, and were not widowed *OR*\n",
    "- go to bars more than once a month and are under the age of 30 *OR*\n",
    "- go to cheap restaurants more than 4 times a month and income is less than 50K. \n",
    "\n"
   ]
  },
  {
   "cell_type": "code",
   "execution_count": 117,
   "metadata": {},
   "outputs": [
    {
     "name": "stdout",
     "output_type": "stream",
     "text": [
      "Married partner      882\n",
      "Single               661\n",
      "Unmarried partner    378\n",
      "Divorced              75\n",
      "Widowed               21\n",
      "Name: maritalStatus, dtype: int64\n"
     ]
    }
   ],
   "source": [
    "value_counts = bar_coupons['maritalStatus'].value_counts()\n",
    "print(value_counts)"
   ]
  },
  {
   "cell_type": "code",
   "execution_count": 118,
   "metadata": {},
   "outputs": [
    {
     "name": "stdout",
     "output_type": "stream",
     "text": [
      "1~3      878\n",
      "4~8      568\n",
      "less1    325\n",
      "gt8      186\n",
      "never     37\n",
      "0         23\n",
      "Name: RestaurantLessThan20, dtype: int64\n"
     ]
    }
   ],
   "source": [
    "value_counts = bar_coupons['RestaurantLessThan20'].value_counts()\n",
    "print(value_counts)"
   ]
  },
  {
   "cell_type": "code",
   "execution_count": 119,
   "metadata": {},
   "outputs": [
    {
     "name": "stdout",
     "output_type": "stream",
     "text": [
      "$25000 - $37499     318\n",
      "$100000 or More     291\n",
      "$12500 - $24999     288\n",
      "$37500 - $49999     267\n",
      "$50000 - $62499     262\n",
      "Less than $12500    165\n",
      "$75000 - $87499     151\n",
      "$87500 - $99999     145\n",
      "$62500 - $74999     130\n",
      "Name: income, dtype: int64\n"
     ]
    }
   ],
   "source": [
    "value_counts = bar_coupons['income'].value_counts()\n",
    "print(value_counts)"
   ]
  },
  {
   "cell_type": "code",
   "execution_count": 120,
   "metadata": {},
   "outputs": [
    {
     "name": "stdout",
     "output_type": "stream",
     "text": [
      "Group_1: 56.92771084337349\n",
      "all_others: 33.18551367331855\n"
     ]
    }
   ],
   "source": [
    "# Created a definition to categorize based on the conditions given\n",
    "def categorize(row):\n",
    "    if (row['Bar'] in ['4~8', 'gt8', '1~3'] and row['passanger'] not in ['Kid(s)','Alone'] and row['maritalStatus'] not in ['Widowed']) or (row['Bar'] in ['4~8', 'gt8', '1~3'] and row['age'] in ['26','21','below21']) or (row['RestaurantLessThan20'] in ['4~8', 'gt8'] and row['income'] in ['Less than $12500', '$12500 - $24999', '$25000 - $37499', '$37500 - $49999']):\n",
    "        return \"Group1\"\n",
    "    else:\n",
    "        return \"Group2\"\n",
    "\n",
    "# Added the column to the table\n",
    "bar_coupons['Group'] = bar_coupons.apply(categorize, axis=1)\n",
    "\n",
    "#Calculated the percentage acceptance for the 2 groups created below by using value_count method\n",
    "Group_1 = bar_coupons.query('Group==\"Group1\"')\n",
    "# print(bar_above_1_and_age_above_25)\n",
    "value_counts = Group_1[\"Y\"].value_counts(normalize=True) * 100\n",
    "# print(value_counts)\n",
    "Group_1 = value_counts[1]\n",
    "print(\"Group_1:\", Group_1)\n",
    "\n",
    "Group_2 = bar_coupons.query('Group==\"Group2\"')\n",
    "value_counts = Group_2[\"Y\"].value_counts(normalize=True) * 100\n",
    "# print(value_counts)\n",
    "Group_2 = value_counts[1]\n",
    "print(\"all_others:\", Group_2)"
   ]
  },
  {
   "cell_type": "markdown",
   "metadata": {},
   "source": [
    "7.  Based on these observations, what do you hypothesize about drivers who accepted the bar coupons?"
   ]
  },
  {
   "cell_type": "markdown",
   "metadata": {},
   "source": [
    "<!-- Got the results of the above analyzed data to be able to hypothesize -->\n",
    "Compare the acceptance rate between those who went to a bar 3 or fewer times a month to those who went more.\n",
    "percent_acceptance_Greater_than_3_times: 76.88442211055276\n",
    "percent_acceptance_three_or_few_times: 37.073707370737075\n",
    "\n",
    "Compare the acceptance rate between drivers who go to a bar more than once a month and are over the age of 25 to the all others. Is there a difference?\n",
    "percent_acceptance_bar_above_1_and_age_above_25: 69.52380952380952\n",
    "percent_acceptance_bar_below_1_or_age_below_25: 33.500313087038194\n",
    "\n",
    "Use the same process to compare the acceptance rate between drivers who go to bars more than once a month and had passengers that were not a kid and had occupations other than farming, fishing, or forestry. \n",
    "percent_acceptance_bar_above_1_and_with_passanger_no_kids_and_no_farming: 71.7948717948718\n",
    "all_others: 37.70581778265642\n",
    "\n",
    "Compare the acceptance rates between those drivers who:\n",
    "go to bars more than once a month, had passengers that were not a kid, and were not widowed OR\n",
    "go to bars more than once a month and are under the age of 30 OR\n",
    "go to cheap restaurants more than 4 times a month and income is less than 50K.\n",
    "Group_1: 56.92771084337349\n",
    "all_others: 33.18551367331855\n",
    "\n",
    "\n",
    "\n",
    "<!-- Below is the hypothesis about drivers who accepted bar coupons -->\n",
    "\n",
    "The acceptance rate is higher for frequent bar visitors and it remained almost within the same range with a slight decrease even when age above 25 and passanger(no kids) and occupations other than farming is considered. And slightly decreased for the drivers with low income (less than 50K) but is still higher than others."
   ]
  },
  {
   "cell_type": "markdown",
   "metadata": {},
   "source": [
    "### Independent Investigation\n",
    "\n",
    "Using the bar coupon example as motivation, you are to explore one of the other coupon groups and try to determine the characteristics of passengers who accept the coupons.  "
   ]
  },
  {
   "cell_type": "markdown",
   "metadata": {},
   "source": [
    "1. Create a new DataFrame that contains just the coffee house coupons."
   ]
  },
  {
   "cell_type": "code",
   "execution_count": 121,
   "metadata": {},
   "outputs": [],
   "source": [
    "# Created a new dataframe to analyze the data of the drivers who accepted Coffee House coupons\n",
    "coffee_coupons = data.query('coupon == \"Coffee House\"').reset_index().drop('index', axis=1)"
   ]
  },
  {
   "cell_type": "code",
   "execution_count": 122,
   "metadata": {},
   "outputs": [
    {
     "name": "stdout",
     "output_type": "stream",
     "text": [
      "<class 'pandas.core.frame.DataFrame'>\n",
      "RangeIndex: 3996 entries, 0 to 3995\n",
      "Data columns (total 26 columns):\n",
      " #   Column                Non-Null Count  Dtype \n",
      "---  ------                --------------  ----- \n",
      " 0   destination           3996 non-null   object\n",
      " 1   passanger             3996 non-null   object\n",
      " 2   weather               3996 non-null   object\n",
      " 3   temperature           3996 non-null   int64 \n",
      " 4   time                  3996 non-null   object\n",
      " 5   coupon                3996 non-null   object\n",
      " 6   expiration            3996 non-null   object\n",
      " 7   gender                3996 non-null   object\n",
      " 8   age                   3996 non-null   object\n",
      " 9   maritalStatus         3996 non-null   object\n",
      " 10  has_children          3996 non-null   int64 \n",
      " 11  education             3996 non-null   object\n",
      " 12  occupation            3996 non-null   object\n",
      " 13  income                3996 non-null   object\n",
      " 14  Bar                   3996 non-null   object\n",
      " 15  CoffeeHouse           3996 non-null   object\n",
      " 16  CarryAway             3996 non-null   object\n",
      " 17  RestaurantLessThan20  3996 non-null   object\n",
      " 18  Restaurant20To50      3996 non-null   object\n",
      " 19  toCoupon_GEQ5min      3996 non-null   int64 \n",
      " 20  toCoupon_GEQ15min     3996 non-null   int64 \n",
      " 21  toCoupon_GEQ25min     3996 non-null   int64 \n",
      " 22  direction_same        3996 non-null   int64 \n",
      " 23  direction_opp         3996 non-null   int64 \n",
      " 24  Y                     3996 non-null   int64 \n",
      " 25  Group                 3996 non-null   object\n",
      "dtypes: int64(8), object(18)\n",
      "memory usage: 811.8+ KB\n"
     ]
    }
   ],
   "source": [
    "# Analyzed the new dataframe\n",
    "coffee_coupons.info()"
   ]
  },
  {
   "cell_type": "code",
   "execution_count": 123,
   "metadata": {},
   "outputs": [
    {
     "data": {
      "text/html": [
       "<div>\n",
       "<style scoped>\n",
       "    .dataframe tbody tr th:only-of-type {\n",
       "        vertical-align: middle;\n",
       "    }\n",
       "\n",
       "    .dataframe tbody tr th {\n",
       "        vertical-align: top;\n",
       "    }\n",
       "\n",
       "    .dataframe thead th {\n",
       "        text-align: right;\n",
       "    }\n",
       "</style>\n",
       "<table border=\"1\" class=\"dataframe\">\n",
       "  <thead>\n",
       "    <tr style=\"text-align: right;\">\n",
       "      <th></th>\n",
       "      <th>destination</th>\n",
       "      <th>passanger</th>\n",
       "      <th>weather</th>\n",
       "      <th>temperature</th>\n",
       "      <th>time</th>\n",
       "      <th>coupon</th>\n",
       "      <th>expiration</th>\n",
       "      <th>gender</th>\n",
       "      <th>age</th>\n",
       "      <th>maritalStatus</th>\n",
       "      <th>...</th>\n",
       "      <th>CarryAway</th>\n",
       "      <th>RestaurantLessThan20</th>\n",
       "      <th>Restaurant20To50</th>\n",
       "      <th>toCoupon_GEQ5min</th>\n",
       "      <th>toCoupon_GEQ15min</th>\n",
       "      <th>toCoupon_GEQ25min</th>\n",
       "      <th>direction_same</th>\n",
       "      <th>direction_opp</th>\n",
       "      <th>Y</th>\n",
       "      <th>Group</th>\n",
       "    </tr>\n",
       "  </thead>\n",
       "  <tbody>\n",
       "    <tr>\n",
       "      <th>0</th>\n",
       "      <td>No Urgent Place</td>\n",
       "      <td>Friend(s)</td>\n",
       "      <td>Sunny</td>\n",
       "      <td>80</td>\n",
       "      <td>10AM</td>\n",
       "      <td>Coffee House</td>\n",
       "      <td>2h</td>\n",
       "      <td>Female</td>\n",
       "      <td>21</td>\n",
       "      <td>Unmarried partner</td>\n",
       "      <td>...</td>\n",
       "      <td>0</td>\n",
       "      <td>4~8</td>\n",
       "      <td>1~3</td>\n",
       "      <td>1</td>\n",
       "      <td>0</td>\n",
       "      <td>0</td>\n",
       "      <td>0</td>\n",
       "      <td>1</td>\n",
       "      <td>0</td>\n",
       "      <td>Coffee House</td>\n",
       "    </tr>\n",
       "    <tr>\n",
       "      <th>1</th>\n",
       "      <td>No Urgent Place</td>\n",
       "      <td>Friend(s)</td>\n",
       "      <td>Sunny</td>\n",
       "      <td>80</td>\n",
       "      <td>2PM</td>\n",
       "      <td>Coffee House</td>\n",
       "      <td>2h</td>\n",
       "      <td>Female</td>\n",
       "      <td>21</td>\n",
       "      <td>Unmarried partner</td>\n",
       "      <td>...</td>\n",
       "      <td>0</td>\n",
       "      <td>4~8</td>\n",
       "      <td>1~3</td>\n",
       "      <td>1</td>\n",
       "      <td>1</td>\n",
       "      <td>0</td>\n",
       "      <td>0</td>\n",
       "      <td>1</td>\n",
       "      <td>0</td>\n",
       "      <td>Coffee House</td>\n",
       "    </tr>\n",
       "    <tr>\n",
       "      <th>2</th>\n",
       "      <td>No Urgent Place</td>\n",
       "      <td>Friend(s)</td>\n",
       "      <td>Sunny</td>\n",
       "      <td>80</td>\n",
       "      <td>2PM</td>\n",
       "      <td>Coffee House</td>\n",
       "      <td>1d</td>\n",
       "      <td>Female</td>\n",
       "      <td>21</td>\n",
       "      <td>Unmarried partner</td>\n",
       "      <td>...</td>\n",
       "      <td>0</td>\n",
       "      <td>4~8</td>\n",
       "      <td>1~3</td>\n",
       "      <td>1</td>\n",
       "      <td>1</td>\n",
       "      <td>0</td>\n",
       "      <td>0</td>\n",
       "      <td>1</td>\n",
       "      <td>0</td>\n",
       "      <td>Coffee House</td>\n",
       "    </tr>\n",
       "    <tr>\n",
       "      <th>3</th>\n",
       "      <td>No Urgent Place</td>\n",
       "      <td>Kid(s)</td>\n",
       "      <td>Sunny</td>\n",
       "      <td>55</td>\n",
       "      <td>6PM</td>\n",
       "      <td>Coffee House</td>\n",
       "      <td>2h</td>\n",
       "      <td>Female</td>\n",
       "      <td>21</td>\n",
       "      <td>Unmarried partner</td>\n",
       "      <td>...</td>\n",
       "      <td>0</td>\n",
       "      <td>4~8</td>\n",
       "      <td>1~3</td>\n",
       "      <td>1</td>\n",
       "      <td>1</td>\n",
       "      <td>0</td>\n",
       "      <td>0</td>\n",
       "      <td>1</td>\n",
       "      <td>1</td>\n",
       "      <td>Coffee House</td>\n",
       "    </tr>\n",
       "    <tr>\n",
       "      <th>4</th>\n",
       "      <td>Home</td>\n",
       "      <td>Alone</td>\n",
       "      <td>Sunny</td>\n",
       "      <td>80</td>\n",
       "      <td>6PM</td>\n",
       "      <td>Coffee House</td>\n",
       "      <td>2h</td>\n",
       "      <td>Female</td>\n",
       "      <td>21</td>\n",
       "      <td>Unmarried partner</td>\n",
       "      <td>...</td>\n",
       "      <td>0</td>\n",
       "      <td>4~8</td>\n",
       "      <td>1~3</td>\n",
       "      <td>1</td>\n",
       "      <td>0</td>\n",
       "      <td>0</td>\n",
       "      <td>0</td>\n",
       "      <td>1</td>\n",
       "      <td>0</td>\n",
       "      <td>Coffee House</td>\n",
       "    </tr>\n",
       "  </tbody>\n",
       "</table>\n",
       "<p>5 rows × 26 columns</p>\n",
       "</div>"
      ],
      "text/plain": [
       "       destination  passanger weather  temperature  time        coupon  \\\n",
       "0  No Urgent Place  Friend(s)   Sunny           80  10AM  Coffee House   \n",
       "1  No Urgent Place  Friend(s)   Sunny           80   2PM  Coffee House   \n",
       "2  No Urgent Place  Friend(s)   Sunny           80   2PM  Coffee House   \n",
       "3  No Urgent Place     Kid(s)   Sunny           55   6PM  Coffee House   \n",
       "4             Home      Alone   Sunny           80   6PM  Coffee House   \n",
       "\n",
       "  expiration  gender age      maritalStatus  ...  CarryAway  \\\n",
       "0         2h  Female  21  Unmarried partner  ...          0   \n",
       "1         2h  Female  21  Unmarried partner  ...          0   \n",
       "2         1d  Female  21  Unmarried partner  ...          0   \n",
       "3         2h  Female  21  Unmarried partner  ...          0   \n",
       "4         2h  Female  21  Unmarried partner  ...          0   \n",
       "\n",
       "  RestaurantLessThan20 Restaurant20To50 toCoupon_GEQ5min toCoupon_GEQ15min  \\\n",
       "0                  4~8              1~3                1                 0   \n",
       "1                  4~8              1~3                1                 1   \n",
       "2                  4~8              1~3                1                 1   \n",
       "3                  4~8              1~3                1                 1   \n",
       "4                  4~8              1~3                1                 0   \n",
       "\n",
       "  toCoupon_GEQ25min direction_same direction_opp  Y         Group  \n",
       "0                 0              0             1  0  Coffee House  \n",
       "1                 0              0             1  0  Coffee House  \n",
       "2                 0              0             1  0  Coffee House  \n",
       "3                 0              0             1  1  Coffee House  \n",
       "4                 0              0             1  0  Coffee House  \n",
       "\n",
       "[5 rows x 26 columns]"
      ]
     },
     "execution_count": 123,
     "metadata": {},
     "output_type": "execute_result"
    }
   ],
   "source": [
    "coffee_coupons.head()"
   ]
  },
  {
   "cell_type": "markdown",
   "metadata": {},
   "source": [
    "2. What is the percentage of Coffee House coupons that were accepted?"
   ]
  },
  {
   "cell_type": "code",
   "execution_count": 124,
   "metadata": {},
   "outputs": [
    {
     "name": "stdout",
     "output_type": "stream",
     "text": [
      "49.92492492492492\n"
     ]
    }
   ],
   "source": [
    "# Used value_counts method to find the percentage acceptance of Coffee House Coupons\n",
    "value_counts = coffee_coupons['Y'].value_counts(normalize=True) * 100\n",
    "\n",
    "percentage_of_coffee_coupon_accepted = value_counts[1]\n",
    "\n",
    "print(percentage_of_coffee_coupon_accepted)"
   ]
  },
  {
   "cell_type": "code",
   "execution_count": 140,
   "metadata": {},
   "outputs": [
    {
     "data": {
      "image/png": "[encoded data removed]",
      "text/plain": [
       "<Figure size 432x288 with 1 Axes>"
      ]
     },
     "metadata": {
      "needs_background": "light"
     },
     "output_type": "display_data"
    }
   ],
   "source": [
    "# Used Seaborn library to get bar plot for Coffee Coupon accepted vs denied\n",
    "bar = sns.barplot(data = coffee_coupons.filter(['Y']).value_counts().reset_index(name='count'), x = \"Y\", y = \"count\")\n",
    "# Add title to bar graph\n",
    "plt.title('Coffee Coupons accepted vs denied')\n",
    "\n",
    "# x-axis label\n",
    "plt.xlabel('Coupons')\n",
    "\n",
    "# y-axis label\n",
    "plt.ylabel('Values')\n",
    "\n",
    "# Replace bar labels\n",
    "bar.set_xticklabels(['Denied', 'Accepted'])\n",
    "\n",
    "plt.show()"
   ]
  },
  {
   "cell_type": "code",
   "execution_count": 125,
   "metadata": {},
   "outputs": [
    {
     "name": "stdout",
     "output_type": "stream",
     "text": [
      "less1    1075\n",
      "1~3      1042\n",
      "never     927\n",
      "4~8       538\n",
      "gt8       342\n",
      "0          72\n",
      "Name: CoffeeHouse, dtype: int64\n"
     ]
    }
   ],
   "source": [
    "value_counts = coffee_coupons['CoffeeHouse'].value_counts()\n",
    "print(value_counts)"
   ]
  },
  {
   "cell_type": "markdown",
   "metadata": {},
   "source": [
    "3. Compare the acceptance rate between those who went to a coffee house 3 or fewer times a month to those who went more."
   ]
  },
  {
   "cell_type": "code",
   "execution_count": 126,
   "metadata": {},
   "outputs": [
    {
     "name": "stdout",
     "output_type": "stream",
     "text": [
      "percent_acceptance_Greater_than_3_times: 67.5\n",
      "percent_acceptance_three_or_few_times: 44.9614890885751\n"
     ]
    }
   ],
   "source": [
    "# Created a definition to categorize based on the conditions given\n",
    "def categorize(category):\n",
    "    if category in ['4~8', 'gt8']:\n",
    "        return 'Group1'\n",
    "    else:\n",
    "        return 'Group2'\n",
    "    \n",
    "# Added the column to the table\n",
    "coffee_coupons['Group'] = coffee_coupons['CoffeeHouse'].apply(categorize)\n",
    "\n",
    "#Calculated the percentage acceptance for the 2 groups created below by using value_count method\n",
    "Greater_than_3_times = coffee_coupons.query('Group==\"Group1\"')\n",
    "# print(Greater_than_3_times)\n",
    "value_counts = Greater_than_3_times[\"Y\"].value_counts(normalize=True) * 100\n",
    "# print(value_counts)\n",
    "Greater_than_3_times = value_counts[1]\n",
    "print(\"percent_acceptance_Greater_than_3_times:\", Greater_than_3_times)\n",
    "\n",
    "three_or_few_times = coffee_coupons.query('Group==\"Group2\"')\n",
    "value_counts = three_or_few_times[\"Y\"].value_counts(normalize=True) * 100\n",
    "# print(value_counts)\n",
    "three_or_few_times = value_counts[1]\n",
    "print(\"percent_acceptance_three_or_few_times:\",three_or_few_times)"
   ]
  },
  {
   "cell_type": "markdown",
   "metadata": {},
   "source": [
    "4. Compare the acceptance rate between drivers who go to a bar more than once a month and are over the age of 25 to the all others. Is there a difference?"
   ]
  },
  {
   "cell_type": "code",
   "execution_count": 127,
   "metadata": {},
   "outputs": [
    {
     "name": "stdout",
     "output_type": "stream",
     "text": [
      "percent_acceptance_bar_above_1_and_age_above_25: 63.84388807069219\n",
      "percent_acceptance_bar_below_1_or_age_below_25: 42.75966641394996\n"
     ]
    }
   ],
   "source": [
    "# Created a definition to categorize based on the conditions given\n",
    "def categorize(row):\n",
    "    if (row['CoffeeHouse'] in ['4~8', 'gt8', '1~3']) and row['age'] not in ['21','below21']:\n",
    "        return \"Group1\"\n",
    "    else:\n",
    "        return \"Group2\"\n",
    "\n",
    "# Added the column to the table\n",
    "coffee_coupons['Group'] = coffee_coupons.apply(categorize, axis=1)\n",
    "\n",
    "#Calculated the percentage acceptance for the 2 groups created below by using value_count method\n",
    "coffee_above_1_and_age_above_25 = coffee_coupons.query('Group==\"Group1\"')\n",
    "value_counts = coffee_above_1_and_age_above_25[\"Y\"].value_counts(normalize=True) * 100\n",
    "# print(value_counts)\n",
    "coffee_above_1_and_age_above_25 = value_counts[1]\n",
    "print(\"percent_acceptance_bar_above_1_and_age_above_25:\", coffee_above_1_and_age_above_25)\n",
    "\n",
    "coffee_below_1_or_age_below_25 = coffee_coupons.query('Group==\"Group2\"')\n",
    "value_counts = coffee_below_1_or_age_below_25[\"Y\"].value_counts(normalize=True) * 100\n",
    "#print(value_counts)\n",
    "coffee_below_1_or_age_below_25 = value_counts[1]\n",
    "print(\"percent_acceptance_bar_below_1_or_age_below_25:\",coffee_below_1_or_age_below_25)"
   ]
  },
  {
   "cell_type": "markdown",
   "metadata": {},
   "source": [
    "5. Compare the acceptance rate between drivers who go to coffee house more than once a month and had passengers that were not a kid."
   ]
  },
  {
   "cell_type": "code",
   "execution_count": 128,
   "metadata": {},
   "outputs": [
    {
     "name": "stdout",
     "output_type": "stream",
     "text": [
      "percent_acceptance_bar_above_1_and_with_passanger_no_kids: 76.65745856353591\n",
      "all_others: 44.00977995110024\n"
     ]
    }
   ],
   "source": [
    "# Created a definition to categorize based on the conditions given\n",
    "def categorize(row):\n",
    "    if (row['CoffeeHouse'] in ['4~8', 'gt8', '1~3']) and row['passanger'] not in ['Kid(s)', 'Alone']:\n",
    "        return \"Group1\"\n",
    "    else:\n",
    "        return \"Group2\"\n",
    "\n",
    "# Added the column to the table\n",
    "coffee_coupons['Group'] = coffee_coupons.apply(categorize, axis=1)\n",
    "\n",
    "#Calculated the percentage acceptance for the 2 groups created below by using value_count method\n",
    "Group_1 = coffee_coupons.query('Group==\"Group1\"')\n",
    "# print(bar_above_1_and_age_above_25)\n",
    "value_counts = Group_1[\"Y\"].value_counts(normalize=True) * 100\n",
    "# print(value_counts)\n",
    "Group_1 = value_counts[1]\n",
    "print(\"percent_acceptance_bar_above_1_and_with_passanger_no_kids:\", Group_1)\n",
    "\n",
    "Group_2 = coffee_coupons.query('Group==\"Group2\"')\n",
    "value_counts = Group_2[\"Y\"].value_counts(normalize=True) * 100\n",
    "# print(value_counts)\n",
    "Group_2 = value_counts[1]\n",
    "print(\"all_others:\", Group_2)"
   ]
  },
  {
   "cell_type": "markdown",
   "metadata": {},
   "source": [
    "6. Compare the acceptance rate between drivers who go to coffee house more than once a month and weather is not sunny and temperature below 50 to all others."
   ]
  },
  {
   "cell_type": "code",
   "execution_count": 129,
   "metadata": {},
   "outputs": [
    {
     "name": "stdout",
     "output_type": "stream",
     "text": [
      "Sunny    3467\n",
      "Snowy     303\n",
      "Rainy     226\n",
      "Name: weather, dtype: int64\n"
     ]
    }
   ],
   "source": [
    "value_counts = coffee_coupons['weather'].value_counts()\n",
    "print(value_counts)"
   ]
  },
  {
   "cell_type": "code",
   "execution_count": 130,
   "metadata": {},
   "outputs": [
    {
     "name": "stdout",
     "output_type": "stream",
     "text": [
      "80    2401\n",
      "55    1277\n",
      "30     318\n",
      "Name: temperature, dtype: int64\n"
     ]
    }
   ],
   "source": [
    "value_counts = coffee_coupons['temperature'].value_counts()\n",
    "print(value_counts)"
   ]
  },
  {
   "cell_type": "code",
   "execution_count": 131,
   "metadata": {},
   "outputs": [
    {
     "name": "stdout",
     "output_type": "stream",
     "text": [
      "percent_acceptance_bar_above_1_and_weather_not_sunny_and_temperature_below_50: 53.37837837837838\n",
      "percent_acceptance_bar_above_1_and_weather_sunny_or_temperature_equal_or_below_50: 49.79209979209979\n"
     ]
    }
   ],
   "source": [
    "# Created a definition to categorize based on the conditions given\n",
    "def categorize(row):\n",
    "    if (row['CoffeeHouse'] in ['4~8', 'gt8', '1~3']) and row['weather'] not in ['Sunny'] and row['temperature'] in [30]:\n",
    "        return \"Group1\"\n",
    "    else:\n",
    "        return \"Group2\"\n",
    "\n",
    "# Added the column to the table\n",
    "coffee_coupons['Group'] = coffee_coupons.apply(categorize, axis=1)\n",
    "\n",
    "#Calculated the percentage acceptance for the 2 groups created below by using value_count method\n",
    "Group_1 = coffee_coupons.query('Group==\"Group1\"')\n",
    "value_counts = Group_1[\"Y\"].value_counts(normalize=True) * 100\n",
    "# print(value_counts)\n",
    "Group_1 = value_counts[1]\n",
    "print(\"percent_acceptance_bar_above_1_and_weather_not_sunny_and_temperature_below_50:\", Group_1)\n",
    "\n",
    "Group_2 = coffee_coupons.query('Group==\"Group2\"')\n",
    "value_counts = Group_2[\"Y\"].value_counts(normalize=True) * 100\n",
    "# print(value_counts)\n",
    "Group_2 = value_counts[1]\n",
    "print(\"percent_acceptance_bar_above_1_and_weather_sunny_or_temperature_equal_or_below_50:\", Group_2)"
   ]
  },
  {
   "cell_type": "markdown",
   "metadata": {},
   "source": [
    "7. Find acceptance rate of drivers who go to coffee house more than once a month by time of day"
   ]
  },
  {
   "cell_type": "code",
   "execution_count": 132,
   "metadata": {},
   "outputs": [
    {
     "name": "stdout",
     "output_type": "stream",
     "text": [
      "6PM     1093\n",
      "7AM      913\n",
      "10AM     899\n",
      "2PM      794\n",
      "10PM     297\n",
      "Name: time, dtype: int64\n"
     ]
    }
   ],
   "source": [
    "value_counts = coffee_coupons['time'].value_counts()\n",
    "print(value_counts)"
   ]
  },
  {
   "cell_type": "code",
   "execution_count": 133,
   "metadata": {},
   "outputs": [
    {
     "name": "stdout",
     "output_type": "stream",
     "text": [
      "<class 'pandas.core.frame.DataFrame'>\n",
      "RangeIndex: 3996 entries, 0 to 3995\n",
      "Data columns (total 27 columns):\n",
      " #   Column                Non-Null Count  Dtype \n",
      "---  ------                --------------  ----- \n",
      " 0   destination           3996 non-null   object\n",
      " 1   passanger             3996 non-null   object\n",
      " 2   weather               3996 non-null   object\n",
      " 3   temperature           3996 non-null   int64 \n",
      " 4   time                  3996 non-null   object\n",
      " 5   coupon                3996 non-null   object\n",
      " 6   expiration            3996 non-null   object\n",
      " 7   gender                3996 non-null   object\n",
      " 8   age                   3996 non-null   object\n",
      " 9   maritalStatus         3996 non-null   object\n",
      " 10  has_children          3996 non-null   int64 \n",
      " 11  education             3996 non-null   object\n",
      " 12  occupation            3996 non-null   object\n",
      " 13  income                3996 non-null   object\n",
      " 14  Bar                   3996 non-null   object\n",
      " 15  CoffeeHouse           3996 non-null   object\n",
      " 16  CarryAway             3996 non-null   object\n",
      " 17  RestaurantLessThan20  3996 non-null   object\n",
      " 18  Restaurant20To50      3996 non-null   object\n",
      " 19  toCoupon_GEQ5min      3996 non-null   int64 \n",
      " 20  toCoupon_GEQ15min     3996 non-null   int64 \n",
      " 21  toCoupon_GEQ25min     3996 non-null   int64 \n",
      " 22  direction_same        3996 non-null   int64 \n",
      " 23  direction_opp         3996 non-null   int64 \n",
      " 24  Y                     3996 non-null   int64 \n",
      " 25  Group                 3996 non-null   object\n",
      " 26  Coffee_Group          3996 non-null   object\n",
      "dtypes: int64(8), object(19)\n",
      "memory usage: 843.0+ KB\n"
     ]
    }
   ],
   "source": [
    "# Created a definition to categorize based on the conditions given\n",
    "def categorize(row):\n",
    "    if (row['CoffeeHouse'] in ['4~8', 'gt8', '1~3']):\n",
    "        return \"Y\"\n",
    "    else:\n",
    "        return \"N\"\n",
    "\n",
    "# Added the column to the table\n",
    "coffee_coupons['Coffee_Group'] = coffee_coupons.apply(categorize, axis=1)\n",
    "coffee_coupons.info()\n"
   ]
  },
  {
   "cell_type": "code",
   "execution_count": 134,
   "metadata": {},
   "outputs": [
    {
     "name": "stdout",
     "output_type": "stream",
     "text": [
      "   time  Y     count\n",
      "0  10AM  1  0.176379\n",
      "1   6PM  1  0.161811\n",
      "2   2PM  1  0.150364\n",
      "3   7AM  1  0.135276\n",
      "4   6PM  0  0.113944\n",
      "5   7AM  0  0.093652\n",
      "6   2PM  0  0.054631\n",
      "7  10AM  0  0.040583\n",
      "8  10PM  0  0.036941\n",
      "9  10PM  1  0.036420\n"
     ]
    }
   ],
   "source": [
    "# Created a new table for acceptance percentage based on time\n",
    "coffee_time_df = coffee_coupons.query('Coffee_Group == \"Y\"').filter(['time', 'Y'], axis=1).value_counts(normalize=True).reset_index(name='count')\n",
    "print(coffee_time_df)"
   ]
  },
  {
   "cell_type": "code",
   "execution_count": 142,
   "metadata": {},
   "outputs": [
    {
     "name": "stdout",
     "output_type": "stream",
     "text": [
      "   time  Y     count  Group\n",
      "0  10AM  1  0.176379      1\n",
      "1   6PM  1  0.161811      3\n",
      "2   2PM  1  0.150364      2\n",
      "3   7AM  1  0.135276      0\n",
      "4   6PM  0  0.113944      3\n",
      "5   7AM  0  0.093652      0\n",
      "6   2PM  0  0.054631      2\n",
      "7  10AM  0  0.040583      1\n",
      "8  10PM  0  0.036941      4\n",
      "9  10PM  1  0.036420      4\n"
     ]
    }
   ],
   "source": [
    "# Created a new column based to sort based on time of day\n",
    "def categorize(row):\n",
    "    if (row['time'] in ['7AM']):\n",
    "        return 0\n",
    "    elif (row['time'] in ['10AM']):\n",
    "        return 1\n",
    "    elif (row['time'] in ['2PM']):\n",
    "        return 2\n",
    "    elif (row['time'] in ['6PM']):\n",
    "        return 3\n",
    "    else:\n",
    "        return 4\n",
    "\n",
    "coffee_time_df['Group'] = coffee_time_df.apply(categorize, axis=1)\n",
    "print(coffee_time_df)"
   ]
  },
  {
   "cell_type": "code",
   "execution_count": 136,
   "metadata": {},
   "outputs": [
    {
     "data": {
      "text/plain": [
       "Text(0, 0.5, 'Percentage acceptance')"
      ]
     },
     "execution_count": 136,
     "metadata": {},
     "output_type": "execute_result"
    },
    {
     "data": {
      "image/png": "[encoded data removed]",
      "text/plain": [
       "<Figure size 432x288 with 1 Axes>"
      ]
     },
     "metadata": {
      "needs_background": "light"
     },
     "output_type": "display_data"
    }
   ],
   "source": [
    "# Created a bar plot for the percentage accepted based on the time of the day\n",
    "# Filtered to only acceptance data\n",
    "# Sorted by percentage acceptance\n",
    "bar = sns.barplot(data = coffee_time_df.query('Y == 1').sort_values(\"Group\"), x = \"time\", y = \"count\")\n",
    "\n",
    "# Add title to bar graph\n",
    "plt.title('Percentage acceptance based on time of day')\n",
    "\n",
    "# x-axis label\n",
    "plt.xlabel('Time of Day')\n",
    "\n",
    "# y-axis label\n",
    "plt.ylabel('Percentage acceptance')\n"
   ]
  },
  {
   "cell_type": "markdown",
   "metadata": {},
   "source": [
    "8.Based on these observations, what do you hypothesize about drivers who accepted the coffee house coupons?"
   ]
  },
  {
   "cell_type": "markdown",
   "metadata": {},
   "source": [
    "The Percentage acceptance of coffee house coupons is about 50%. And it increases for the drivers\n",
    "- Who go to coffee hose more often (more than 3 times a month)\n",
    "- Age above 25\n",
    "- Had an adult passanger\n",
    "It doesn't look like weather had much affect on acceptance.\n",
    "And the highest acceptance is at 10am."
   ]
  },
  {
   "cell_type": "code",
   "execution_count": null,
   "metadata": {},
   "outputs": [],
   "source": []
  },
  {
   "cell_type": "code",
   "execution_count": null,
   "metadata": {},
   "outputs": [],
   "source": []
  }
 ],
 "metadata": {
  "kernelspec": {
   "display_name": "Python 3",
   "language": "python",
   "name": "python3"
  },
  "language_info": {
   "codemirror_mode": {
    "name": "ipython",
    "version": 3
   },
   "file_extension": ".py",
   "mimetype": "text/x-python",
   "name": "python",
   "nbconvert_exporter": "python",
   "pygments_lexer": "ipython3",
   "version": "3.8.8"
  },
  "widgets": {
   "application/vnd.jupyter.widget-state+json": {
    "state": {},
    "version_major": 2,
    "version_minor": 0
   }
  }
 },
 "nbformat": 4,
 "nbformat_minor": 4
}
